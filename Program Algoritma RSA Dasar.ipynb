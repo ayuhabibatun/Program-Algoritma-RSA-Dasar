{
  "nbformat": 4,
  "nbformat_minor": 0,
  "metadata": {
    "colab": {
      "provenance": [],
      "authorship_tag": "ABX9TyMMIjICaDkHSHfbWbqHPfut",
      "include_colab_link": true
    },
    "kernelspec": {
      "name": "python3",
      "display_name": "Python 3"
    },
    "language_info": {
      "name": "python"
    }
  },
  "cells": [
    {
      "cell_type": "markdown",
      "metadata": {
        "id": "view-in-github",
        "colab_type": "text"
      },
      "source": [
        "<a href=\"https://colab.research.google.com/github/ayuhabibatun/Program-Algoritma-RSA-Dasar/blob/main/Program%20Algoritma%20RSA%20Dasar.ipynb\" target=\"_parent\"><img src=\"https://colab.research.google.com/assets/colab-badge.svg\" alt=\"Open In Colab\"/></a>"
      ]
    },
    {
      "cell_type": "code",
      "execution_count": null,
      "metadata": {
        "id": "ckytEFVCXM5D"
      },
      "outputs": [],
      "source": [
        "from sympy import randprime\n",
        "import random\n",
        "import math\n",
        "\n",
        "# Ambil dua bilangan prima secara acak\n",
        "p = randprime(2, 10**2)\n",
        "q = randprime(2, 10**2)\n",
        "print(\"Bilangan prima pertama (p) = \",p)\n",
        "print(\"Bilangan prima kedua (q) = \",q)\n",
        "\n",
        "# Hitung nilai n\n",
        "n = p * q\n",
        "print(\"Nilai n = \",n)\n",
        "\n",
        "# Hitung phi(n)\n",
        "phi_n = (p - 1) * (q - 1)\n",
        "print(\"Nilai phi(n):\", phi_n)\n",
        "\n",
        "# Cari kunci publik e (yang relatif prima dengan phi_n)\n",
        "e = random.randint(2, phi_n - 1)\n",
        "while math.gcd(e, phi_n) != 1:\n",
        "    e = random.randint(2, phi_n - 1)\n",
        "print(\"Kunci publik (e):\", e)\n",
        "\n",
        "# Hitung kunci privat d (invers dari e mod phi_n)\n",
        "d = pow(e, -1, phi_n)\n",
        "print(\"Kunci privat (d):\", d)\n",
        "\n",
        "# Minta input pesan dari user\n",
        "pesan = input(\"\\nMasukkan pesan yang ingin dienkripsi: \")\n",
        "\n",
        "# Ubah setiap karakter dalam pesan jadi angka ASCII\n",
        "pesan_ke_angka = [ord(karakter) for karakter in pesan]\n",
        "print(\"Pesan dalam angka (ASCII):\", pesan_ke_angka)\n",
        "\n",
        "# Enkripsi setiap angka dengan rumus RSA: c = m^e mod n\n",
        "pesan_terenkripsi = []\n",
        "for angka in pesan_ke_angka:\n",
        "    hasil = pow(angka, e, n)\n",
        "    pesan_terenkripsi.append(hasil)\n",
        "print(\"Pesan setelah dienkripsi:\", pesan_terenkripsi)\n",
        "\n",
        "# Dekripsi: m = c^d mod n\n",
        "pesan_terdekripsi = []\n",
        "for angka_enkripsi in pesan_terenkripsi:\n",
        "    hasil = pow(angka_enkripsi, d, n)\n",
        "    pesan_terdekripsi.append(hasil)\n",
        "\n",
        "# Ubah kembali angka ASCII ke karakter\n",
        "hasil_pesan = ''.join(chr(angka) for angka in pesan_terdekripsi)\n",
        "print(\"Pesan setelah dekripsi:\", hasil_pesan)"
      ]
    }
  ]
}